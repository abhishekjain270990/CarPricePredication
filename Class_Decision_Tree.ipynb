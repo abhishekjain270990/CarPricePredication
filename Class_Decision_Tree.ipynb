{
 "cells": [
  {
   "cell_type": "code",
   "execution_count": 28,
   "id": "51b5de19",
   "metadata": {},
   "outputs": [],
   "source": [
    "import pandas as pd\n",
    "from sklearn.metrics import accuracy_score\n",
    "from sklearn.model_selection import train_test_split\n",
    "from sklearn.tree import DecisionTreeClassifier\n",
    "import matplotlib.pyplot as plt"
   ]
  },
  {
   "cell_type": "code",
   "execution_count": 17,
   "id": "698b13bf",
   "metadata": {},
   "outputs": [],
   "source": [
    "df = pd.read_csv('Decision_Tree_Dataset.csv',\n",
    "                 sep= ',',header=0)"
   ]
  },
  {
   "cell_type": "code",
   "execution_count": 20,
   "id": "02a48fd7",
   "metadata": {},
   "outputs": [],
   "source": [
    "df.rename(columns={'1':'Initial payment','2':'Last payment','3':'Credit Score','4':'House Number'},inplace=True)"
   ]
  },
  {
   "cell_type": "code",
   "execution_count": 22,
   "id": "e4cfbcd9",
   "metadata": {},
   "outputs": [],
   "source": [
    "df.drop(columns='sum',inplace=True,axis=1)"
   ]
  },
  {
   "cell_type": "code",
   "execution_count": 24,
   "id": "0b331540",
   "metadata": {},
   "outputs": [],
   "source": [
    "df.rename(columns={'Unnamed: 5':'Result'},inplace=True)"
   ]
  },
  {
   "cell_type": "code",
   "execution_count": 25,
   "id": "c7cac1a3",
   "metadata": {},
   "outputs": [
    {
     "data": {
      "text/html": [
       "<div>\n",
       "<style scoped>\n",
       "    .dataframe tbody tr th:only-of-type {\n",
       "        vertical-align: middle;\n",
       "    }\n",
       "\n",
       "    .dataframe tbody tr th {\n",
       "        vertical-align: top;\n",
       "    }\n",
       "\n",
       "    .dataframe thead th {\n",
       "        text-align: right;\n",
       "    }\n",
       "</style>\n",
       "<table border=\"1\" class=\"dataframe\">\n",
       "  <thead>\n",
       "    <tr style=\"text-align: right;\">\n",
       "      <th></th>\n",
       "      <th>Initial payment</th>\n",
       "      <th>Last payment</th>\n",
       "      <th>Credit Score</th>\n",
       "      <th>House Number</th>\n",
       "      <th>Result</th>\n",
       "    </tr>\n",
       "  </thead>\n",
       "  <tbody>\n",
       "    <tr>\n",
       "      <th>0</th>\n",
       "      <td>201</td>\n",
       "      <td>10018</td>\n",
       "      <td>250</td>\n",
       "      <td>3046</td>\n",
       "      <td>yes</td>\n",
       "    </tr>\n",
       "    <tr>\n",
       "      <th>1</th>\n",
       "      <td>205</td>\n",
       "      <td>10016</td>\n",
       "      <td>395</td>\n",
       "      <td>3044</td>\n",
       "      <td>yes</td>\n",
       "    </tr>\n",
       "    <tr>\n",
       "      <th>2</th>\n",
       "      <td>257</td>\n",
       "      <td>10129</td>\n",
       "      <td>109</td>\n",
       "      <td>3251</td>\n",
       "      <td>yes</td>\n",
       "    </tr>\n",
       "    <tr>\n",
       "      <th>3</th>\n",
       "      <td>246</td>\n",
       "      <td>10064</td>\n",
       "      <td>324</td>\n",
       "      <td>3137</td>\n",
       "      <td>yes</td>\n",
       "    </tr>\n",
       "    <tr>\n",
       "      <th>4</th>\n",
       "      <td>117</td>\n",
       "      <td>10115</td>\n",
       "      <td>496</td>\n",
       "      <td>3094</td>\n",
       "      <td>yes</td>\n",
       "    </tr>\n",
       "    <tr>\n",
       "      <th>...</th>\n",
       "      <td>...</td>\n",
       "      <td>...</td>\n",
       "      <td>...</td>\n",
       "      <td>...</td>\n",
       "      <td>...</td>\n",
       "    </tr>\n",
       "    <tr>\n",
       "      <th>995</th>\n",
       "      <td>413</td>\n",
       "      <td>14914</td>\n",
       "      <td>523</td>\n",
       "      <td>4683</td>\n",
       "      <td>No</td>\n",
       "    </tr>\n",
       "    <tr>\n",
       "      <th>996</th>\n",
       "      <td>359</td>\n",
       "      <td>14423</td>\n",
       "      <td>927</td>\n",
       "      <td>4838</td>\n",
       "      <td>No</td>\n",
       "    </tr>\n",
       "    <tr>\n",
       "      <th>997</th>\n",
       "      <td>316</td>\n",
       "      <td>14872</td>\n",
       "      <td>613</td>\n",
       "      <td>4760</td>\n",
       "      <td>No</td>\n",
       "    </tr>\n",
       "    <tr>\n",
       "      <th>998</th>\n",
       "      <td>305</td>\n",
       "      <td>14926</td>\n",
       "      <td>897</td>\n",
       "      <td>4572</td>\n",
       "      <td>No</td>\n",
       "    </tr>\n",
       "    <tr>\n",
       "      <th>999</th>\n",
       "      <td>168</td>\n",
       "      <td>14798</td>\n",
       "      <td>834</td>\n",
       "      <td>4937</td>\n",
       "      <td>No</td>\n",
       "    </tr>\n",
       "  </tbody>\n",
       "</table>\n",
       "<p>1000 rows × 5 columns</p>\n",
       "</div>"
      ],
      "text/plain": [
       "     Initial payment  Last payment  Credit Score  House Number Result\n",
       "0                201         10018           250          3046    yes\n",
       "1                205         10016           395          3044    yes\n",
       "2                257         10129           109          3251    yes\n",
       "3                246         10064           324          3137    yes\n",
       "4                117         10115           496          3094    yes\n",
       "..               ...           ...           ...           ...    ...\n",
       "995              413         14914           523          4683     No\n",
       "996              359         14423           927          4838     No\n",
       "997              316         14872           613          4760     No\n",
       "998              305         14926           897          4572     No\n",
       "999              168         14798           834          4937     No\n",
       "\n",
       "[1000 rows x 5 columns]"
      ]
     },
     "execution_count": 25,
     "metadata": {},
     "output_type": "execute_result"
    }
   ],
   "source": [
    "df"
   ]
  },
  {
   "cell_type": "code",
   "execution_count": 26,
   "id": "b705e329",
   "metadata": {},
   "outputs": [
    {
     "data": {
      "text/html": [
       "<div>\n",
       "<style scoped>\n",
       "    .dataframe tbody tr th:only-of-type {\n",
       "        vertical-align: middle;\n",
       "    }\n",
       "\n",
       "    .dataframe tbody tr th {\n",
       "        vertical-align: top;\n",
       "    }\n",
       "\n",
       "    .dataframe thead th {\n",
       "        text-align: right;\n",
       "    }\n",
       "</style>\n",
       "<table border=\"1\" class=\"dataframe\">\n",
       "  <thead>\n",
       "    <tr style=\"text-align: right;\">\n",
       "      <th></th>\n",
       "      <th>Initial payment</th>\n",
       "      <th>Last payment</th>\n",
       "      <th>Credit Score</th>\n",
       "      <th>House Number</th>\n",
       "    </tr>\n",
       "  </thead>\n",
       "  <tbody>\n",
       "    <tr>\n",
       "      <th>count</th>\n",
       "      <td>1000.00000</td>\n",
       "      <td>1000.00000</td>\n",
       "      <td>1000.000000</td>\n",
       "      <td>1000.000000</td>\n",
       "    </tr>\n",
       "    <tr>\n",
       "      <th>mean</th>\n",
       "      <td>294.34300</td>\n",
       "      <td>12465.88400</td>\n",
       "      <td>528.042000</td>\n",
       "      <td>4027.011000</td>\n",
       "    </tr>\n",
       "    <tr>\n",
       "      <th>std</th>\n",
       "      <td>115.81539</td>\n",
       "      <td>1440.15617</td>\n",
       "      <td>259.796059</td>\n",
       "      <td>565.164179</td>\n",
       "    </tr>\n",
       "    <tr>\n",
       "      <th>min</th>\n",
       "      <td>100.00000</td>\n",
       "      <td>10005.00000</td>\n",
       "      <td>100.000000</td>\n",
       "      <td>3003.000000</td>\n",
       "    </tr>\n",
       "    <tr>\n",
       "      <th>25%</th>\n",
       "      <td>195.00000</td>\n",
       "      <td>11201.50000</td>\n",
       "      <td>302.000000</td>\n",
       "      <td>3545.000000</td>\n",
       "    </tr>\n",
       "    <tr>\n",
       "      <th>50%</th>\n",
       "      <td>289.50000</td>\n",
       "      <td>12450.00000</td>\n",
       "      <td>516.500000</td>\n",
       "      <td>4041.500000</td>\n",
       "    </tr>\n",
       "    <tr>\n",
       "      <th>75%</th>\n",
       "      <td>398.00000</td>\n",
       "      <td>13678.25000</td>\n",
       "      <td>753.500000</td>\n",
       "      <td>4507.000000</td>\n",
       "    </tr>\n",
       "    <tr>\n",
       "      <th>max</th>\n",
       "      <td>500.00000</td>\n",
       "      <td>14996.00000</td>\n",
       "      <td>997.000000</td>\n",
       "      <td>5000.000000</td>\n",
       "    </tr>\n",
       "  </tbody>\n",
       "</table>\n",
       "</div>"
      ],
      "text/plain": [
       "       Initial payment  Last payment  Credit Score  House Number\n",
       "count       1000.00000    1000.00000   1000.000000   1000.000000\n",
       "mean         294.34300   12465.88400    528.042000   4027.011000\n",
       "std          115.81539    1440.15617    259.796059    565.164179\n",
       "min          100.00000   10005.00000    100.000000   3003.000000\n",
       "25%          195.00000   11201.50000    302.000000   3545.000000\n",
       "50%          289.50000   12450.00000    516.500000   4041.500000\n",
       "75%          398.00000   13678.25000    753.500000   4507.000000\n",
       "max          500.00000   14996.00000    997.000000   5000.000000"
      ]
     },
     "execution_count": 26,
     "metadata": {},
     "output_type": "execute_result"
    }
   ],
   "source": [
    "df.describe()"
   ]
  },
  {
   "cell_type": "code",
   "execution_count": 35,
   "id": "6dbbdc33",
   "metadata": {},
   "outputs": [
    {
     "data": {
      "image/png": "[encoded data removed]",
      "text/plain": [
       "<Figure size 432x288 with 1 Axes>"
      ]
     },
     "metadata": {
      "needs_background": "light"
     },
     "output_type": "display_data"
    }
   ],
   "source": [
    "plt.scatter(df['Initial payment'],df['Credit Score'])\n",
    "plt.show()"
   ]
  },
  {
   "cell_type": "code",
   "execution_count": 37,
   "id": "6307905c",
   "metadata": {},
   "outputs": [],
   "source": [
    "correlation = df.corr(method='pearson')"
   ]
  },
  {
   "cell_type": "code",
   "execution_count": 39,
   "id": "0e20f953",
   "metadata": {},
   "outputs": [
    {
     "data": {
      "text/plain": [
       "<AxesSubplot:>"
      ]
     },
     "execution_count": 39,
     "metadata": {},
     "output_type": "execute_result"
    },
    {
     "data": {
      "image/png": "[encoded data removed]",
      "text/plain": [
       "<Figure size 432x288 with 2 Axes>"
      ]
     },
     "metadata": {
      "needs_background": "light"
     },
     "output_type": "display_data"
    }
   ],
   "source": [
    "import seaborn as sns\n",
    "sns.heatmap(correlation,xticklabels=correlation.columns,yticklabels=correlation.columns)"
   ]
  },
  {
   "cell_type": "code",
   "execution_count": 48,
   "id": "ec3a4677",
   "metadata": {},
   "outputs": [
    {
     "data": {
      "text/html": [
       "<div>\n",
       "<style scoped>\n",
       "    .dataframe tbody tr th:only-of-type {\n",
       "        vertical-align: middle;\n",
       "    }\n",
       "\n",
       "    .dataframe tbody tr th {\n",
       "        vertical-align: top;\n",
       "    }\n",
       "\n",
       "    .dataframe thead th {\n",
       "        text-align: right;\n",
       "    }\n",
       "</style>\n",
       "<table border=\"1\" class=\"dataframe\">\n",
       "  <thead>\n",
       "    <tr style=\"text-align: right;\">\n",
       "      <th></th>\n",
       "      <th>Initial payment</th>\n",
       "      <th>Last payment</th>\n",
       "      <th>Credit Score</th>\n",
       "      <th>House Number</th>\n",
       "      <th>Result</th>\n",
       "    </tr>\n",
       "  </thead>\n",
       "  <tbody>\n",
       "    <tr>\n",
       "      <th>0</th>\n",
       "      <td>201</td>\n",
       "      <td>10018</td>\n",
       "      <td>250</td>\n",
       "      <td>3046</td>\n",
       "      <td>yes</td>\n",
       "    </tr>\n",
       "    <tr>\n",
       "      <th>1</th>\n",
       "      <td>205</td>\n",
       "      <td>10016</td>\n",
       "      <td>395</td>\n",
       "      <td>3044</td>\n",
       "      <td>yes</td>\n",
       "    </tr>\n",
       "    <tr>\n",
       "      <th>2</th>\n",
       "      <td>257</td>\n",
       "      <td>10129</td>\n",
       "      <td>109</td>\n",
       "      <td>3251</td>\n",
       "      <td>yes</td>\n",
       "    </tr>\n",
       "    <tr>\n",
       "      <th>3</th>\n",
       "      <td>246</td>\n",
       "      <td>10064</td>\n",
       "      <td>324</td>\n",
       "      <td>3137</td>\n",
       "      <td>yes</td>\n",
       "    </tr>\n",
       "    <tr>\n",
       "      <th>4</th>\n",
       "      <td>117</td>\n",
       "      <td>10115</td>\n",
       "      <td>496</td>\n",
       "      <td>3094</td>\n",
       "      <td>yes</td>\n",
       "    </tr>\n",
       "    <tr>\n",
       "      <th>...</th>\n",
       "      <td>...</td>\n",
       "      <td>...</td>\n",
       "      <td>...</td>\n",
       "      <td>...</td>\n",
       "      <td>...</td>\n",
       "    </tr>\n",
       "    <tr>\n",
       "      <th>995</th>\n",
       "      <td>413</td>\n",
       "      <td>14914</td>\n",
       "      <td>523</td>\n",
       "      <td>4683</td>\n",
       "      <td>No</td>\n",
       "    </tr>\n",
       "    <tr>\n",
       "      <th>996</th>\n",
       "      <td>359</td>\n",
       "      <td>14423</td>\n",
       "      <td>927</td>\n",
       "      <td>4838</td>\n",
       "      <td>No</td>\n",
       "    </tr>\n",
       "    <tr>\n",
       "      <th>997</th>\n",
       "      <td>316</td>\n",
       "      <td>14872</td>\n",
       "      <td>613</td>\n",
       "      <td>4760</td>\n",
       "      <td>No</td>\n",
       "    </tr>\n",
       "    <tr>\n",
       "      <th>998</th>\n",
       "      <td>305</td>\n",
       "      <td>14926</td>\n",
       "      <td>897</td>\n",
       "      <td>4572</td>\n",
       "      <td>No</td>\n",
       "    </tr>\n",
       "    <tr>\n",
       "      <th>999</th>\n",
       "      <td>168</td>\n",
       "      <td>14798</td>\n",
       "      <td>834</td>\n",
       "      <td>4937</td>\n",
       "      <td>No</td>\n",
       "    </tr>\n",
       "  </tbody>\n",
       "</table>\n",
       "<p>1000 rows × 5 columns</p>\n",
       "</div>"
      ],
      "text/plain": [
       "     Initial payment  Last payment  Credit Score  House Number Result\n",
       "0                201         10018           250          3046    yes\n",
       "1                205         10016           395          3044    yes\n",
       "2                257         10129           109          3251    yes\n",
       "3                246         10064           324          3137    yes\n",
       "4                117         10115           496          3094    yes\n",
       "..               ...           ...           ...           ...    ...\n",
       "995              413         14914           523          4683     No\n",
       "996              359         14423           927          4838     No\n",
       "997              316         14872           613          4760     No\n",
       "998              305         14926           897          4572     No\n",
       "999              168         14798           834          4937     No\n",
       "\n",
       "[1000 rows x 5 columns]"
      ]
     },
     "execution_count": 48,
     "metadata": {},
     "output_type": "execute_result"
    }
   ],
   "source": [
    "df"
   ]
  },
  {
   "cell_type": "code",
   "execution_count": 51,
   "id": "a93e1e45",
   "metadata": {},
   "outputs": [],
   "source": [
    "X = df.iloc[:,0:4]\n",
    "Y = df.iloc[:,4]\n",
    "X_train,X_test,y_train,y_test = train_test_split(X,Y,test_size=0.2,random_state=100)"
   ]
  },
  {
   "cell_type": "code",
   "execution_count": 53,
   "id": "05ddbde4",
   "metadata": {},
   "outputs": [
    {
     "data": {
      "text/plain": [
       "(800, 4)"
      ]
     },
     "execution_count": 53,
     "metadata": {},
     "output_type": "execute_result"
    }
   ],
   "source": [
    "X_train.shape"
   ]
  },
  {
   "cell_type": "code",
   "execution_count": 55,
   "id": "b69b94ca",
   "metadata": {},
   "outputs": [
    {
     "data": {
      "text/plain": [
       "675     No\n",
       "358    yes\n",
       "159    yes\n",
       "533     No\n",
       "678     No\n",
       "      ... \n",
       "855     No\n",
       "871     No\n",
       "835     No\n",
       "792     No\n",
       "520     No\n",
       "Name: Result, Length: 800, dtype: object"
      ]
     },
     "execution_count": 55,
     "metadata": {},
     "output_type": "execute_result"
    }
   ],
   "source": [
    "y_train"
   ]
  },
  {
   "cell_type": "code",
   "execution_count": 88,
   "id": "38bd057e",
   "metadata": {},
   "outputs": [
    {
     "data": {
      "text/plain": [
       "DecisionTreeClassifier(criterion='entropy', max_depth=3, min_samples_leaf=5,\n",
       "                       random_state=100)"
      ]
     },
     "execution_count": 88,
     "metadata": {},
     "output_type": "execute_result"
    }
   ],
   "source": [
    "#CRITERIA = ENTROPY\n",
    "model_entropy = DecisionTreeClassifier(criterion='entropy',max_depth=3,min_samples_leaf=5,random_state=100)\n",
    "model_entropy.fit(X_train,y_train)"
   ]
  },
  {
   "cell_type": "code",
   "execution_count": 89,
   "id": "c1f1a1f2",
   "metadata": {},
   "outputs": [],
   "source": [
    "y_pred_entropy = model_entropy.predict(X_test)"
   ]
  },
  {
   "cell_type": "code",
   "execution_count": 90,
   "id": "cd907077",
   "metadata": {},
   "outputs": [],
   "source": [
    "acc_score = accuracy_score(y_test,y_pred_entropy)"
   ]
  },
  {
   "cell_type": "code",
   "execution_count": 91,
   "id": "a3f2e09f",
   "metadata": {},
   "outputs": [
    {
     "data": {
      "text/plain": [
       "0.93"
      ]
     },
     "execution_count": 91,
     "metadata": {},
     "output_type": "execute_result"
    }
   ],
   "source": [
    "acc_score"
   ]
  },
  {
   "cell_type": "code",
   "execution_count": 92,
   "id": "70fd1c0a",
   "metadata": {},
   "outputs": [
    {
     "data": {
      "text/plain": [
       "array(['yes', 'yes', 'No', 'yes', 'No', 'yes', 'yes', 'No', 'No', 'No',\n",
       "       'No', 'No', 'yes', 'No', 'No', 'No', 'yes', 'No', 'yes', 'No',\n",
       "       'No', 'yes', 'No', 'yes', 'yes', 'No', 'No', 'yes', 'No', 'No',\n",
       "       'No', 'yes', 'yes', 'yes', 'yes', 'No', 'No', 'No', 'yes', 'No',\n",
       "       'yes', 'yes', 'yes', 'yes', 'No', 'yes', 'No', 'yes', 'No', 'No',\n",
       "       'yes', 'No', 'yes', 'yes', 'yes', 'yes', 'No', 'yes', 'No', 'yes',\n",
       "       'yes', 'No', 'No', 'yes', 'No', 'yes', 'yes', 'yes', 'No', 'yes',\n",
       "       'No', 'No', 'No', 'yes', 'No', 'yes', 'yes', 'No', 'yes', 'No',\n",
       "       'No', 'No', 'No', 'yes', 'No', 'yes', 'No', 'yes', 'yes', 'No',\n",
       "       'yes', 'yes', 'yes', 'yes', 'yes', 'No', 'yes', 'yes', 'yes',\n",
       "       'yes', 'No', 'No', 'yes', 'yes', 'No', 'yes', 'yes', 'yes', 'No',\n",
       "       'No', 'yes', 'yes', 'yes', 'No', 'No', 'yes', 'yes', 'yes', 'No',\n",
       "       'No', 'No', 'No', 'yes', 'yes', 'No', 'yes', 'yes', 'yes', 'No',\n",
       "       'No', 'yes', 'yes', 'No', 'yes', 'yes', 'yes', 'No', 'yes', 'yes',\n",
       "       'No', 'No', 'yes', 'yes', 'yes', 'No', 'yes', 'yes', 'yes', 'yes',\n",
       "       'No', 'yes', 'No', 'No', 'No', 'No', 'yes', 'No', 'yes', 'No',\n",
       "       'yes', 'yes', 'No', 'yes', 'yes', 'No', 'yes', 'No', 'yes', 'No',\n",
       "       'No', 'No', 'yes', 'No', 'yes', 'No', 'yes', 'yes', 'No', 'No',\n",
       "       'No', 'No', 'No', 'yes', 'No', 'No', 'yes', 'yes', 'yes', 'yes',\n",
       "       'yes', 'No', 'yes', 'No', 'yes', 'No', 'No', 'No', 'yes', 'yes',\n",
       "       'No'], dtype=object)"
      ]
     },
     "execution_count": 92,
     "metadata": {},
     "output_type": "execute_result"
    }
   ],
   "source": [
    "y_pred_entropy"
   ]
  },
  {
   "cell_type": "code",
   "execution_count": 133,
   "id": "d48547de",
   "metadata": {},
   "outputs": [
    {
     "data": {
      "text/plain": [
       "DecisionTreeClassifier(max_depth=3, min_samples_leaf=5, random_state=100)"
      ]
     },
     "execution_count": 133,
     "metadata": {},
     "output_type": "execute_result"
    }
   ],
   "source": [
    "#CRITERION GINI\n",
    "model_gini = DecisionTreeClassifier(criterion='gini',max_depth=3,min_samples_leaf=5,random_state=100)\n",
    "model_gini.fit(X_train,y_train)"
   ]
  },
  {
   "cell_type": "code",
   "execution_count": 134,
   "id": "7575889b",
   "metadata": {},
   "outputs": [],
   "source": [
    "y_pred_gini = model_gini.predict(X_test)"
   ]
  },
  {
   "cell_type": "code",
   "execution_count": 135,
   "id": "3ccc6abf",
   "metadata": {},
   "outputs": [],
   "source": [
    "acc_score_gini = accuracy_score(y_test,y_pred_gini)"
   ]
  },
  {
   "cell_type": "code",
   "execution_count": 136,
   "id": "3b01c313",
   "metadata": {},
   "outputs": [
    {
     "data": {
      "text/plain": [
       "0.94"
      ]
     },
     "execution_count": 136,
     "metadata": {},
     "output_type": "execute_result"
    }
   ],
   "source": [
    "acc_score_gini"
   ]
  },
  {
   "cell_type": "code",
   "execution_count": 137,
   "id": "8faaf8ce",
   "metadata": {},
   "outputs": [
    {
     "data": {
      "text/plain": [
       "[Text(167.4, 190.26, 'X[1] <= 12402.5\\ngini = 0.498\\nsamples = 800\\nvalue = [423, 377]'),\n",
       " Text(83.7, 135.9, 'X[1] <= 11898.5\\ngini = 0.184\\nsamples = 381\\nvalue = [39, 342]'),\n",
       " Text(41.85, 81.53999999999999, 'X[3] <= 4837.0\\ngini = 0.059\\nsamples = 297\\nvalue = [9, 288]'),\n",
       " Text(20.925, 27.180000000000007, 'gini = 0.022\\nsamples = 270\\nvalue = [3, 267]'),\n",
       " Text(62.775000000000006, 27.180000000000007, 'gini = 0.346\\nsamples = 27\\nvalue = [6, 21]'),\n",
       " Text(125.55000000000001, 81.53999999999999, 'X[3] <= 4347.5\\ngini = 0.459\\nsamples = 84\\nvalue = [30, 54]'),\n",
       " Text(104.625, 27.180000000000007, 'gini = 0.073\\nsamples = 53\\nvalue = [2, 51]'),\n",
       " Text(146.475, 27.180000000000007, 'gini = 0.175\\nsamples = 31\\nvalue = [28, 3]'),\n",
       " Text(251.10000000000002, 135.9, 'X[1] <= 13120.0\\ngini = 0.153\\nsamples = 419\\nvalue = [384, 35]'),\n",
       " Text(209.25, 81.53999999999999, 'X[3] <= 3779.5\\ngini = 0.405\\nsamples = 110\\nvalue = [79, 31]'),\n",
       " Text(188.32500000000002, 27.180000000000007, 'gini = 0.401\\nsamples = 36\\nvalue = [10, 26]'),\n",
       " Text(230.175, 27.180000000000007, 'gini = 0.126\\nsamples = 74\\nvalue = [69, 5]'),\n",
       " Text(292.95, 81.53999999999999, 'X[0] <= 103.5\\ngini = 0.026\\nsamples = 309\\nvalue = [305, 4]'),\n",
       " Text(272.02500000000003, 27.180000000000007, 'gini = 0.48\\nsamples = 5\\nvalue = [3, 2]'),\n",
       " Text(313.875, 27.180000000000007, 'gini = 0.013\\nsamples = 304\\nvalue = [302, 2]')]"
      ]
     },
     "execution_count": 137,
     "metadata": {},
     "output_type": "execute_result"
    },
    {
     "data": {
      "image/png": "[encoded data removed]",
      "text/plain": [
       "<Figure size 432x288 with 1 Axes>"
      ]
     },
     "metadata": {
      "needs_background": "light"
     },
     "output_type": "display_data"
    }
   ],
   "source": [
    "from sklearn import tree\n",
    "from dtreeviz.trees import *\n",
    "tree.plot_tree(model_gini,filled=True,rounded=True,fontsize=14)"
   ]
  },
  {
   "cell_type": "code",
   "execution_count": 126,
   "id": "d9d1dd69",
   "metadata": {},
   "outputs": [],
   "source": [
    "probs =  X_train.value_counts(normalize=True)"
   ]
  },
  {
   "cell_type": "code",
   "execution_count": 128,
   "id": "8d592a8c",
   "metadata": {},
   "outputs": [],
   "source": [
    "import numpy as np"
   ]
  },
  {
   "cell_type": "code",
   "execution_count": 130,
   "id": "7514bbd1",
   "metadata": {},
   "outputs": [],
   "source": [
    "impurity = 1 - np.sum(np.square(probs))"
   ]
  },
  {
   "cell_type": "code",
   "execution_count": 131,
   "id": "3fcf519e",
   "metadata": {},
   "outputs": [
    {
     "data": {
      "text/plain": [
       "0.99875"
      ]
     },
     "execution_count": 131,
     "metadata": {},
     "output_type": "execute_result"
    }
   ],
   "source": [
    "impurity"
   ]
  },
  {
   "cell_type": "code",
   "execution_count": null,
   "id": "debff725",
   "metadata": {},
   "outputs": [],
   "source": []
  }
 ],
 "metadata": {
  "kernelspec": {
   "display_name": "Python 3 (ipykernel)",
   "language": "python",
   "name": "python3"
  },
  "language_info": {
   "codemirror_mode": {
    "name": "ipython",
    "version": 3
   },
   "file_extension": ".py",
   "mimetype": "text/x-python",
   "name": "python",
   "nbconvert_exporter": "python",
   "pygments_lexer": "ipython3",
   "version": "3.9.7"
  }
 },
 "nbformat": 4,
 "nbformat_minor": 5
}
